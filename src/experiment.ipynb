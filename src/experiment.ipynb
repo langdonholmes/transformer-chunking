{
 "cells": [
  {
   "cell_type": "code",
   "execution_count": null,
   "id": "7815d63e-c418-45b3-a7dd-b856f44e8adb",
   "metadata": {},
   "outputs": [],
   "source": [
    "import seaborn as sns\n",
    "sns.set_theme(font='Liberation Serif',\n",
    "              rc={'figure.figsize': (7.5,3.75),\n",
    "                  'font.size': 11,\n",
    "                 })\n",
    "\n",
    "import numpy as np\n",
    "import pandas as pd\n",
    "import re\n",
    "\n",
    "# Huggingface\n",
    "from transformers import AutoModel, AutoTokenizer\n",
    "MODEL_NAME = 'bert-base-uncased'\n",
    "tokenizer = AutoTokenizer.from_pretrained(MODEL_NAME, use_fast=True)\n",
    "model = AutoModel.from_pretrained(MODEL_NAME)\n",
    "\n",
    "# PyTorch\n",
    "import torch\n",
    "DEVICE = torch.device('cuda' if torch.cuda.is_available() else 'cpu')\n",
    "print(DEVICE)"
   ]
  },
  {
   "cell_type": "code",
   "execution_count": null,
   "id": "f3536a87-9ad4-45e2-8871-752ee785dfeb",
   "metadata": {},
   "outputs": [],
   "source": [
    "s = 'This is an example.'\n",
    "s = tokenizer(s, return_tensors='pt')"
   ]
  },
  {
   "cell_type": "code",
   "execution_count": 3,
   "id": "48177552-25d6-4494-99fc-3321fae9f90b",
   "metadata": {},
   "outputs": [],
   "source": [
    "with torch.no_grad():\n",
    "    hidden_states = model(**s, output_hidden_states=True)['hidden_states']"
   ]
  },
  {
   "cell_type": "markdown",
   "id": "02f1033e-508b-4ee3-b942-56920da69594",
   "metadata": {},
   "source": [
    "## Indexing\n",
    "\n",
    "hidden_states[i] == hidden states at i<sup>th</sup> layer of network.\n",
    "\n",
    "hidden_states[i].shape == [num_examples, sequence_length, embedding_size]  \n",
    "\n",
    "To get the 13 different embeddings for a single token position, we select the first and only example sentence, the position in the input sequence, and all values in the embedding matrix.  "
   ]
  },
  {
   "cell_type": "code",
   "execution_count": null,
   "id": "e006b90d-f98b-4ce0-83ab-029643ea455f",
   "metadata": {},
   "outputs": [],
   "source": [
    "hidden_states[0][0,:,:]"
   ]
  },
  {
   "cell_type": "code",
   "execution_count": null,
   "id": "f07e8840-a44f-4038-a3f1-c01dadf3b9f7",
   "metadata": {},
   "outputs": [],
   "source": [
    "hidden_states[0]"
   ]
  }
 ],
 "metadata": {
  "kernelspec": {
   "display_name": "Python [conda env:root] *",
   "language": "python",
   "name": "conda-root-py"
  },
  "language_info": {
   "codemirror_mode": {
    "name": "ipython",
    "version": 3
   },
   "file_extension": ".py",
   "mimetype": "text/x-python",
   "name": "python",
   "nbconvert_exporter": "python",
   "pygments_lexer": "ipython3",
   "version": "3.10.5"
  }
 },
 "nbformat": 4,
 "nbformat_minor": 5
}
