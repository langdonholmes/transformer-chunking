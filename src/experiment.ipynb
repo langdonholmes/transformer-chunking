{
 "cells": [
  {
   "cell_type": "markdown",
   "id": "13a996b5-40c1-41a6-8eec-f513ab15cadb",
   "metadata": {},
   "source": [
    "# Load Data\n",
    "We load in an embed_array of shape [num_sentences x maximum_sequence_length x 13 x 768]\n",
    "\n",
    "Where Y is the lookup embed stored at embed_array[ : , : , 0 , : ]  \n",
    "And X is any of the 0 < i <= 13 intermediate embeds at embed_array[ : , : , i , : ]"
   ]
  },
  {
   "cell_type": "code",
   "execution_count": 1,
   "id": "24542209-3f70-46f2-b690-f518fad5bdc2",
   "metadata": {},
   "outputs": [
    {
     "name": "stdout",
     "output_type": "stream",
     "text": [
      "cpu\n"
     ]
    }
   ],
   "source": [
    "from tqdm.auto import tqdm #tqdm.auto is still bugging out. we can use the CLI version.\n",
    "\n",
    "# PyTorch\n",
    "import torch\n",
    "DEVICE = torch.device('cuda' if torch.cuda.is_available() else 'cpu')\n",
    "print(DEVICE)\n",
    "\n",
    "import wandb\n",
    "\n",
    "from sklearn.model_selection import train_test_split\n",
    "from torch.utils.data import TensorDataset, DataLoader\n",
    "\n",
    "embed_array = torch.load('../data/bookcorpus_embeddings_0_5000.pt')"
   ]
  },
  {
   "cell_type": "code",
   "execution_count": 2,
   "id": "23cd2c3d-961d-4133-877c-42bdab496d60",
   "metadata": {},
   "outputs": [],
   "source": [
    "def get_datasets(array, layer=None, offset=None):\n",
    "    '''Generates a 60/20/20 data split from a tensor array.\n",
    "    Returns three torch DataLoader objects.\n",
    "    '''\n",
    "    assert isinstance(layer, int)\n",
    "    \n",
    "    \n",
    "    feature_layer = array[:, :, layer, :] # generated embeddings in specified layer\n",
    "    target_layer = array[:, :, 0, :] # lookup embedding in first layer\n",
    "    \n",
    "    # target_layer = torch.rand((5000, 66, 768))\n",
    "    \n",
    "    # remove empty token embeds\n",
    "    mask = feature_layer.sum(dim=2) != 0\n",
    "    assert feature_layer[mask].shape == target_layer[mask].shape\n",
    "    X = feature_layer[mask]\n",
    "    y = target_layer[mask]\n",
    "    \n",
    "#     if offset:\n",
    "#         # this makes the target the token in relative position offset to the feature X\n",
    "#         # if offset == 1, the target for the eleventh token is the 12 token.\n",
    "#         # the last token wraps around\n",
    "#         # target_layer = target_layer.roll(offset, dims=1)[mask.roll(offset)]\n",
    "#         t = target_layer.roll(offset, dims=1)[mask.roll(offset)]\n",
    "        \n",
    "    X_train, X_dev_test, y_train, y_dev_test = train_test_split(X, y, train_size=.7, random_state=42)\n",
    "    X_dev, X_test, y_dev, y_test = train_test_split(X_dev_test, y_dev_test, train_size=.5, random_state=42)\n",
    "    train = TensorDataset(X_train, y_train)\n",
    "    dev = TensorDataset(X_dev, y_dev)\n",
    "    test = TensorDataset(X_test, y_test)\n",
    "    return train, dev, test"
   ]
  },
  {
   "cell_type": "code",
   "execution_count": 3,
   "id": "b96d8143-6802-489d-89e7-b631537c2862",
   "metadata": {},
   "outputs": [
    {
     "data": {
      "text/plain": [
       "tensor([[[[16, 17, 18, 19, 20, 21, 22, 23, 24, 25, 26, 27, 28, 29, 30, 31]],\n",
       "\n",
       "         [[32, 33, 34, 35, 36, 37, 38, 39, 40, 41, 42, 43, 44, 45, 46, 47]],\n",
       "\n",
       "         [[ 0,  1,  2,  3,  4,  5,  6,  7,  8,  9, 10, 11, 12, 13, 14, 15]]]])"
      ]
     },
     "execution_count": 3,
     "metadata": {},
     "output_type": "execute_result"
    }
   ],
   "source": [
    "x = torch.tensor(range(48)).view(1, 3, 1, 16)\n",
    "x.roll(2, dims=1)"
   ]
  },
  {
   "cell_type": "code",
   "execution_count": 142,
   "id": "9fb7e24e-1d82-4aa9-8447-704527acbe29",
   "metadata": {},
   "outputs": [
    {
     "name": "stdout",
     "output_type": "stream",
     "text": [
      "tensor(0.7491)\n",
      "tensor(0.2509)\n"
     ]
    }
   ],
   "source": [
    "def test_loss_functions(X, y, target=-1):\n",
    "    cos_emb = torch.nn.CosineEmbeddingLoss()\n",
    "    cos_sim = torch.nn.CosineSimilarity()\n",
    "\n",
    "    print(cos_emb(X, y, torch.tensor(target).repeat(12066)))\n",
    "    print(cos_sim(X, y).mean())\n",
    "    \n",
    "test_loss_functions(*dev.tensors, target=1)"
   ]
  },
  {
   "cell_type": "code",
   "execution_count": 15,
   "id": "051f3f65-1aa8-4953-ac2f-aef03a30aa31",
   "metadata": {},
   "outputs": [
    {
     "data": {
      "text/plain": [
       "tensor([ 6.3680e-02,  4.2777e-01, -1.6526e-01,  6.5646e-01,  2.3686e-01,\n",
       "         5.8183e-01,  4.1605e-01, -1.4187e-01,  4.5537e-02,  5.4854e-01,\n",
       "         6.8006e-01,  2.6564e-01, -2.7240e-01,  9.1416e-01,  1.0264e-01,\n",
       "         6.2936e-02, -2.7750e-01, -8.7919e-02, -2.6202e-01,  3.0572e-01,\n",
       "         1.9627e-01,  1.8375e-01,  7.8449e-01,  7.2295e-01,  4.6698e-01,\n",
       "        -6.7572e-01,  5.2161e-01, -3.6723e-01, -6.3253e-01,  7.3604e-01,\n",
       "         1.6454e+00, -5.2956e-01, -2.6240e-01, -1.4226e+00,  3.2521e-01,\n",
       "        -2.8187e-01,  1.2924e+00, -8.2242e-01, -6.2197e-01,  4.9168e-01,\n",
       "        -5.1357e-02, -1.0143e+00,  3.7504e-01,  6.0870e-01,  5.0369e-01,\n",
       "         2.8337e-01,  2.1419e-01, -1.5592e-01,  9.9089e-02, -5.2127e-01,\n",
       "        -8.0828e-01,  8.0704e-01,  1.1393e+00, -4.2543e-01,  1.9179e-02,\n",
       "         6.7566e-01, -3.1869e-01, -4.3552e-01,  3.3330e-01,  1.1073e+00,\n",
       "        -7.3016e-01, -1.2614e-01, -2.4792e-01, -9.2586e-01, -8.3654e-02,\n",
       "        -6.0923e-01,  1.3391e-01, -1.3124e-01, -8.3505e-02, -5.7360e-01,\n",
       "        -2.0194e-01, -3.3645e-01, -1.4903e+00,  6.4497e-01, -4.9568e-01,\n",
       "        -5.5149e-01, -2.5319e-01,  1.1878e+00, -6.4851e-01,  5.7357e-01,\n",
       "         3.8637e-01,  8.6390e-01, -1.2912e-02,  6.7849e-02,  1.1256e+00,\n",
       "         5.3351e-01, -5.4273e-01,  6.4698e-01, -4.6902e-01, -9.3978e-01,\n",
       "        -1.8804e-01, -1.3256e-01,  2.8689e-02,  3.3092e-01,  7.9339e-01,\n",
       "         1.6017e-02,  1.2480e+00,  2.1620e-01,  4.4779e-01, -6.3140e-01,\n",
       "         2.6792e-01, -2.4986e-01,  7.1598e-01, -4.1606e-01,  5.3381e-01,\n",
       "        -1.8163e-01, -7.7796e-01,  3.8789e-02, -7.5206e-01,  1.3392e-01,\n",
       "        -9.9394e-01,  3.9115e-02, -3.8007e-01, -4.0470e-01, -7.9512e-02,\n",
       "        -1.2032e+00,  1.1826e-01,  4.0320e-02, -1.2096e+00, -7.3606e-01,\n",
       "         9.5312e-01, -8.1545e-01, -8.3567e-01, -1.1802e-01,  1.3369e-01,\n",
       "        -7.3538e-02, -2.6125e-01, -1.0235e-01,  1.3310e+00,  1.3768e+00,\n",
       "        -9.9968e-01, -1.0890e-01, -4.4477e-03, -3.1269e-01, -4.0555e-01,\n",
       "         9.7523e-01, -4.5244e-01,  6.2197e-01,  3.1318e-01,  4.5212e-01,\n",
       "        -7.3032e-01,  6.1789e-01,  1.0152e+00, -6.7888e-01, -1.0840e-02,\n",
       "        -4.1435e-01, -3.3836e-01, -3.3236e-01,  1.2395e+00,  3.7124e-01,\n",
       "        -5.0447e-01, -1.8696e-01, -7.9201e-01, -4.5929e-01, -2.6138e-01,\n",
       "        -3.9883e-01, -3.6775e-01, -1.4990e-01,  3.4419e-01, -8.0017e-02,\n",
       "        -2.0332e-01,  5.7281e-01, -1.4521e+00,  4.4359e-01,  7.8526e-01,\n",
       "         7.8795e-01,  4.5007e-01,  7.8221e-01,  1.4449e-01,  4.4035e-01,\n",
       "        -8.1955e-01,  1.7161e-01,  8.2142e-01, -5.9111e-01, -5.3019e-01,\n",
       "         1.2074e+00, -3.7112e-01, -7.6425e-02, -1.3909e-01,  8.2187e-01,\n",
       "        -3.0022e-01, -3.4690e-01, -5.8060e-01, -8.2723e-01, -1.2323e+00,\n",
       "        -4.3481e-01, -7.2978e-01,  3.7352e-01, -1.4646e+00, -8.3697e-01,\n",
       "        -1.2412e+00, -7.4796e-01,  4.3340e-01, -4.7732e-01, -2.0065e-01,\n",
       "        -3.5652e-01,  2.5684e-01, -6.6672e-01,  9.4446e-02,  2.5968e-02,\n",
       "         2.7205e-01, -2.1467e-01, -6.0966e-01,  1.2499e-01,  1.1017e-01,\n",
       "         2.0406e-01, -4.0599e-02, -4.7551e-01, -7.9645e-02, -3.4855e-01,\n",
       "        -9.9686e-01,  2.4715e-01, -6.5654e-01,  4.0034e-01, -5.9694e-01,\n",
       "         5.7910e-02,  4.1757e-01, -1.4426e-01, -5.3581e-01, -7.5977e-01,\n",
       "        -4.2065e-01,  1.7040e-02, -6.8770e-01,  6.6497e-01, -4.7697e-01,\n",
       "         8.4497e-01,  6.1718e-01, -6.4201e-01, -6.7611e-02, -4.4141e-01,\n",
       "         7.0558e-01,  5.5695e-03,  3.5236e-01,  2.9098e-01, -6.8291e-01,\n",
       "         6.3945e-01, -2.4243e-01,  3.3851e-01,  6.7126e-01, -5.0928e-01,\n",
       "        -3.7433e-01,  2.6286e-02,  5.0542e-01, -8.8005e-01, -5.5438e-01,\n",
       "        -1.8059e-01, -2.4355e-01, -1.0198e+00, -9.1230e-01, -5.3005e-02,\n",
       "        -3.1947e-01, -9.6955e-01,  6.6433e-04, -1.0931e+00,  6.7494e-01,\n",
       "        -4.7636e-01,  1.2103e-01,  1.4570e-01, -7.0987e-01,  7.0559e-01,\n",
       "         5.0510e-01,  1.7453e-01,  1.0344e+00, -5.4989e-01,  1.8383e-01,\n",
       "        -7.2384e-01,  8.5784e-01,  1.5765e-01, -6.3250e-01,  9.7982e-01,\n",
       "         6.4876e-01,  1.6042e-01,  4.5116e-01,  1.1976e+00, -1.5307e-01,\n",
       "         4.2686e-01,  3.3823e-02, -3.9352e-01,  5.3706e-01, -3.3701e-01,\n",
       "         2.4583e-03, -3.9807e-01, -7.1782e-01, -7.2772e-01, -9.6446e-01,\n",
       "         1.7888e-01,  8.7218e-01, -1.1867e+00, -2.1903e-01, -3.8977e-01,\n",
       "         1.4899e-03,  1.8131e-01, -6.7403e-01,  3.9131e-01, -4.5599e-01,\n",
       "        -5.1772e-01,  3.0939e-01,  2.1756e-01,  7.5661e-01, -4.9279e-01,\n",
       "         1.0174e+00,  4.5260e-02, -2.7672e-01,  7.4626e-01,  1.4225e+00,\n",
       "        -3.1391e-02,  9.3903e-01, -1.1361e+00, -6.4196e+00, -2.5113e-01,\n",
       "         3.5550e-01,  5.3982e-01,  2.4813e-01,  8.3847e-01, -1.2665e+00,\n",
       "        -1.3965e-01,  1.5065e-01,  1.1580e+00,  7.0683e-01, -3.7422e-01,\n",
       "         1.0120e+00,  1.0576e+00,  1.3356e+00, -6.7635e-01,  8.4057e-01,\n",
       "        -5.9446e-03, -1.2790e+00,  1.3056e+00,  1.8463e-01, -8.6458e-01,\n",
       "        -8.2389e-01,  4.7215e-01,  3.6349e-01, -4.4126e-01,  4.4405e-01,\n",
       "         5.4401e-02, -9.3927e-02, -1.8914e-01, -8.3194e-01, -8.9306e-01,\n",
       "        -6.9236e-01,  1.4560e+00, -6.4852e-01, -6.0480e-01,  2.3406e-01,\n",
       "        -4.7037e-01, -1.2625e-01,  6.2146e-01, -1.1986e-01,  3.4602e-01,\n",
       "         2.8165e-01,  1.1096e-01,  1.4950e+00, -8.0931e-02,  1.8768e-01,\n",
       "         3.1865e-01, -1.4416e-01,  2.3255e-01, -7.3054e-01,  4.5196e-01,\n",
       "         1.5414e-01, -1.3678e+00, -1.2068e+00, -1.0280e+00, -1.5706e-01,\n",
       "        -4.5257e-02, -7.3415e-02, -2.9384e-01,  3.4928e-01, -9.3725e-01,\n",
       "         1.0119e-01,  1.6359e+00, -5.0246e-03, -4.1309e-01, -1.6261e+00,\n",
       "        -8.6236e-01,  7.4733e-01,  1.2242e+00,  6.3018e-03, -1.7326e-02,\n",
       "         7.2592e-01, -1.8963e+00, -1.5471e-01, -4.9304e-01, -3.1834e-02,\n",
       "        -6.8472e-01, -6.6180e-01, -1.0172e+00,  1.6031e-01, -4.4205e-01,\n",
       "        -9.4187e-02,  2.9575e-01, -3.2543e-01, -3.5360e-01, -7.0642e-01,\n",
       "        -7.6616e-01, -4.9441e-02, -6.0241e-01, -3.6965e-02, -3.6387e-01,\n",
       "        -1.7205e-01, -2.1466e-01, -3.8305e-01, -3.4250e-01,  2.5671e-01,\n",
       "        -9.5075e-01,  2.4838e-02, -2.4609e-01,  9.2631e-02, -1.9358e-01,\n",
       "        -1.2318e-01,  1.3137e+00, -8.5644e-01,  2.6123e-01, -6.1483e-02,\n",
       "        -2.4800e-01, -3.7739e-03,  8.2689e-01,  2.2876e-01,  1.9375e-02,\n",
       "        -4.4228e-01, -8.9422e-02, -3.9598e-01, -3.0542e-01,  3.1624e-01,\n",
       "         7.1798e-01,  5.0918e-01,  2.5498e-01, -7.9471e-01,  1.6889e-01,\n",
       "         8.7991e-02, -1.9053e-02,  1.5515e+00, -6.5155e-02,  8.3909e-01,\n",
       "         2.7023e-01, -6.1270e-01,  5.4537e-01, -3.9004e-02, -5.3156e-01,\n",
       "        -2.5961e-01, -1.4247e-02,  2.2509e-01,  2.3137e-01,  5.4240e-02,\n",
       "        -1.2665e+00,  4.4803e-02, -6.3028e-02, -4.0925e-01,  7.0920e-01,\n",
       "        -8.4989e-01,  8.4031e-01,  1.8924e-01,  1.7001e-01,  1.1648e-01,\n",
       "         2.0170e-01, -2.3484e-01,  4.9336e-01, -8.6184e-01, -1.2189e-01,\n",
       "        -7.9268e-02,  3.1749e-03, -4.2266e-02,  1.5271e+00,  1.0098e+00,\n",
       "        -9.7598e-01, -4.1159e-01, -1.3741e+00, -6.9660e-01,  1.0689e-01,\n",
       "         6.3592e-01,  8.4601e-03, -1.3224e+00,  7.7664e-03, -7.8970e-01,\n",
       "         7.2961e-01,  2.1030e-01, -3.9468e-01,  3.3431e-02, -1.1905e-01,\n",
       "         3.8195e-01, -9.1737e-01, -3.5319e-01,  1.2716e+00,  2.2875e-01,\n",
       "         1.7942e-01,  1.1943e+00,  9.3695e-02, -6.5162e-01, -4.0421e-01,\n",
       "         6.5974e-01,  6.2370e-01,  5.6861e-01, -3.9533e-01, -7.8555e-01,\n",
       "        -6.8381e-01,  2.3629e-01, -9.2513e-03,  3.3424e-01,  3.1780e-01,\n",
       "         1.9215e-01,  1.0944e-01, -1.2544e+00, -9.0418e-01, -9.1446e-02,\n",
       "        -7.9213e-01, -4.3945e-01,  3.8495e-01, -1.8996e-01, -2.4165e-01,\n",
       "        -6.1126e-02,  2.8524e-01, -5.7519e-01, -6.0701e-03,  6.2663e-01,\n",
       "         6.0080e-02,  1.2985e+00,  9.3010e-01, -1.2056e+00, -1.7120e-01,\n",
       "         6.8989e-01,  2.1365e-01,  5.4967e-02,  5.9312e-02, -9.4935e-01,\n",
       "         2.2780e-01, -4.6900e-01, -3.7796e-01, -4.2544e-01, -1.4093e-01,\n",
       "         2.8588e-01,  6.1880e-01,  4.0225e-02, -6.0185e-01,  4.7904e-01,\n",
       "         4.3834e-01, -3.4019e-01,  1.8255e-01, -7.1881e-01, -7.2579e-01,\n",
       "         4.7803e-01, -5.6210e-01,  4.4264e-01, -8.1477e-01,  9.5358e-02,\n",
       "         6.2704e-01,  2.2628e-02,  2.8189e-01,  5.1192e-01, -6.2991e-01,\n",
       "         7.8349e-01, -1.3975e-01, -3.1648e-01,  1.7998e-01, -8.6124e-01,\n",
       "        -1.8155e-01, -6.5244e-01, -1.4018e+00, -8.2925e-01, -1.5547e-01,\n",
       "        -3.5313e-01,  1.8112e-01, -8.6813e-01,  6.5914e-01, -5.8595e-01,\n",
       "        -2.1887e-01,  3.8544e-01,  2.5327e-01, -1.5142e-01,  1.4144e-01,\n",
       "        -5.2732e-01,  1.5566e+00, -1.0620e-01, -1.1727e+00,  1.1162e+00,\n",
       "        -1.3778e-01,  1.4158e-01,  3.0877e-02,  2.1393e-01,  1.5560e-01,\n",
       "         2.6810e-02, -3.5096e-01, -5.9732e-01,  2.0491e-01, -7.3408e-02,\n",
       "        -4.6464e-01,  4.9008e-01, -3.1994e-01, -1.5956e-01,  2.8562e-02,\n",
       "        -9.2863e-01,  2.9514e-01, -7.6328e-02, -1.1349e+00, -1.0222e-01,\n",
       "        -6.8126e-01, -8.6563e-01, -3.8151e-01,  4.6940e-01, -6.1716e-01,\n",
       "         3.3831e-01, -1.0866e+00,  1.0583e-01,  5.4015e-02,  8.5632e-01,\n",
       "         2.4512e-01, -5.4037e-01,  7.8776e-01,  6.1600e-01, -1.7382e-01,\n",
       "         1.6224e+00,  6.0156e-01, -5.3420e-01, -2.8695e-01, -7.8355e-02,\n",
       "        -3.6055e-02,  6.4292e-02, -7.2141e-01,  5.9989e-01, -1.0470e+00,\n",
       "         9.1009e-01,  1.0509e-01,  9.5845e-01,  1.8514e-01, -3.2593e-01,\n",
       "         1.5207e-01,  1.3337e-01,  3.2344e-01, -1.1782e+00,  1.0967e+00,\n",
       "         6.7165e-01,  3.0375e-01,  1.0228e+00,  3.0767e-01, -2.8096e-01,\n",
       "        -7.5550e-01, -9.0348e-01, -1.5872e-01, -1.1035e+00, -8.0227e-01,\n",
       "         7.0870e-01, -9.6522e-01,  4.2925e-01, -8.1847e-01,  2.4283e-01,\n",
       "         5.5517e-02,  8.4415e-01,  3.8130e-01,  2.9134e-01, -2.2060e-02,\n",
       "         7.6310e-01, -9.5230e-03,  3.6588e-01, -3.6213e-01, -5.9768e-01,\n",
       "         4.6444e-01,  2.6685e-01, -1.7061e-01, -1.9192e-01,  8.2058e-02,\n",
       "         1.2280e-01,  9.1305e-01,  1.1524e+00,  3.2058e-01,  2.4236e-01,\n",
       "         4.3036e-01, -5.3911e-01,  1.8493e+00, -6.7809e-01,  1.2203e-01,\n",
       "        -4.7146e-01, -2.3626e-01, -4.7886e-01, -8.1300e-02,  3.4171e-01,\n",
       "         1.3522e+00,  9.1776e-01,  1.7335e-01,  4.6988e-01,  2.6190e-01,\n",
       "        -6.6367e-01,  1.2706e+00,  3.5151e-01,  1.3208e-01,  1.2721e-01,\n",
       "        -1.2454e+00, -1.9707e-01,  4.7289e-02, -3.6484e-02, -3.0478e-01,\n",
       "        -7.0887e-01, -5.5834e-01, -4.5340e-01,  1.0682e+00, -2.5338e-02,\n",
       "        -9.9265e-01,  7.2063e-01,  1.3041e-01,  2.0236e-02, -9.9348e-02,\n",
       "         7.8167e-01, -6.7100e-01,  1.2787e-01,  7.1700e-01, -2.7611e-01,\n",
       "         2.5908e-01,  1.2090e+00, -8.5506e-01, -1.5647e-01, -7.9257e-01,\n",
       "        -4.2526e-03,  2.0954e-01, -2.6146e-01,  1.9817e-01, -2.4902e-01,\n",
       "         3.1653e-01,  1.6423e-01,  5.6738e-02, -6.4378e-01,  3.7851e-01,\n",
       "        -4.2824e-01,  5.9181e-01,  8.1757e-01,  7.6943e-01,  8.3652e-01,\n",
       "         1.1477e+00, -2.8344e-01,  9.1296e-02,  3.6621e-01, -1.7845e-01,\n",
       "        -5.8194e-02,  9.8026e-01,  4.1148e-02,  5.1724e-01, -9.6017e-03,\n",
       "         1.2124e-01, -2.9920e-01, -6.5012e-01, -6.1434e-01, -5.3169e-01,\n",
       "        -3.1684e-01, -1.8544e-01,  2.1684e-01,  1.0328e+00,  4.6453e-01,\n",
       "         1.8682e-01,  4.8168e-01,  7.6831e-01, -3.0367e-01,  9.1616e-01,\n",
       "        -9.4404e-01, -8.3905e-02,  3.4964e-01, -5.9597e-01, -2.6740e-01,\n",
       "        -2.6550e-02,  1.1418e+00, -8.8600e-01, -7.9366e-01,  2.6986e-01,\n",
       "        -6.9219e-01, -1.4576e-02,  2.2412e-01,  2.0026e-01, -1.4907e+00,\n",
       "        -2.1333e-01,  4.6165e-01,  9.4568e-02])"
      ]
     },
     "execution_count": 15,
     "metadata": {},
     "output_type": "execute_result"
    }
   ],
   "source": [
    "dev.tensors[0][0]"
   ]
  },
  {
   "cell_type": "markdown",
   "id": "544358c7-4c82-4cbd-9d28-e949d03b7095",
   "metadata": {},
   "source": [
    "## Classifier\n",
    "\n",
    "Multilayer Perceptron\n",
    "\n",
    "> The linear perceptron and MLP are both trained by either minimizing the L2 or cosine distance loss using the ADAM optimizer (Kingma & Ba, 2015) with a learning rate of α = 0.0001, β1 = 0.9 and β2 = 0.999. We use a batch size of 256. We monitor performance on the validation set and stop training if there is no improvement for 20 epochs. The input and output dimension of the models is d = 768; the dimension of the contextual word embeddings. For both models we performed a learning rate search over the values α ∈ [0.003, 0.001, 0.0003, 0.0001, 0.00003, 0.00001, 0.000003]. The weights are initialized with the Glorot Uniform initializer (Glorot & Bengio, 2010). The MLP has one hidden layer with 1000 neurons and uses the gelu activation function (Hendrycks & Gimpel, 2016), following the feed-forward layers in BERT and GPT. We chose a hidden layer size of 1000 in order to avoid a bottleneck. We experimented with using a larger hidden layer of size 3072 and adding dropout to more closely match the feed-forward layers in BERT. This only resulted in increased training times and we hence deferred from further architecture search. We split the data by sentences into train/validation/test according to a 70/15/15 split. This way of splitting the data ensures that the models have never seen the test sentences (i.e., contexts) during training. In order to get a more robust estimate of performance we perform the experiments in Figure 2a using 10-fold cross validation. The variance, due to the random assignment of sentences to train/validation/test sets, is small, and hence not shown.  \n",
    "> -- <cite>Brunner et al. 2020</cite>"
   ]
  },
  {
   "cell_type": "code",
   "execution_count": 11,
   "id": "4ff3267a-8ce1-4215-b5a3-6580eaa8eb3e",
   "metadata": {},
   "outputs": [],
   "source": [
    "import pytorch_lightning as pl\n",
    "import torch\n",
    "import torch.nn as nn\n",
    "\n",
    "class TokenIdentifier(pl.LightningModule):\n",
    "    def __init__(self, input_size, hidden_size):\n",
    "        super().__init__()\n",
    "        self.input_size = input_size\n",
    "        self.hidden_size  = hidden_size\n",
    "        self.activation = torch.nn.GELU()\n",
    "        self.loss_fn = torch.nn.CosineEmbeddingLoss()\n",
    "        self.layers = torch.nn.Sequential(\n",
    "                torch.nn.Linear(self.input_size, self.hidden_size),\n",
    "                self.activation,\n",
    "                torch.nn.Linear(self.hidden_size, self.hidden_size),\n",
    "                self.activation,\n",
    "                torch.nn.Linear(self.hidden_size, self.input_size),\n",
    "            )\n",
    "        # self.lookup_tree = self.create_lookup_embed_tree('../data/bert_lookup_embeddings.pt')\n",
    "    \n",
    "    def create_lookup_embed_tree(self, path_to_lookup_embeddings):\n",
    "        bert_embeds = torch.load(path_to_lookup_embeddings)\n",
    "        return KDTree(bert_embeds)\n",
    "    \n",
    "    def forward(self, x):\n",
    "        return self.layers(x)\n",
    "    \n",
    "    def _shared_pred_step(self, batch, batch_idx):\n",
    "        x, y = batch\n",
    "        y_hat = self.layers(x)\n",
    "        return (y_hat, y)\n",
    "    \n",
    "    def _shared_eval_step(self, batch, batch_idx):\n",
    "        y_hat, y = self._shared_pred_step(batch, batch_idx)\n",
    "        labels = torch.tensor(1).repeat(y.size(0)) # 1 specifies distance. We want to minimize distance.\n",
    "        loss = self.loss_fn(y_hat, y, labels) \n",
    "        return loss\n",
    "    \n",
    "    def training_step(self, batch, batch_idx):\n",
    "        loss = self._shared_eval_step(batch, batch_idx)\n",
    "        self.log('train_loss', loss, on_step=True, on_epoch=True)\n",
    "        return loss\n",
    "    \n",
    "    def validation_step(self, batch, batch_idx):\n",
    "        loss = self._shared_eval_step(batch, batch_idx)\n",
    "        self.log('val_loss', loss, on_step=False, on_epoch=True)\n",
    "        return loss\n",
    "    \n",
    "    def test_step(self, batch, batch_idx):\n",
    "        y_hat, y = self._shared_pred_step(batch, batch_idx)\n",
    "            \n",
    "    def predict_step(self, batch, batch_idx, dataloader_idx=0):\n",
    "        y_hat, _ = self._shared_pred_step(batch, batch_idx)\n",
    "        return self.lookup_tree.query(y_hat)\n",
    "    \n",
    "    def configure_optimizers(self):\n",
    "        return torch.optim.Adam(self.parameters(), lr=0.0001)"
   ]
  },
  {
   "cell_type": "code",
   "execution_count": 12,
   "id": "2c89e8f0-4b55-40a8-967d-4d0061408b9a",
   "metadata": {},
   "outputs": [],
   "source": [
    "run_config = {\n",
    "    'layer': 11,\n",
    "    'offset': 0,\n",
    "    'target': 'not random',\n",
    "    'loss_func': 'Cosine Embedding Loss (targets=1)'\n",
    "}\n",
    "\n",
    "wandb_logger = pl.loggers.WandbLogger(project='token-identify',\n",
    "                                      dir='../logs/wandb',\n",
    "                                      config=run_config,\n",
    "                                     )\n",
    "\n",
    "\n",
    "\n",
    "model = TokenIdentifier(768, 1000)\n",
    "\n",
    "train, dev, test = get_datasets(embed_array,\n",
    "                                layer=run_config['layer'],\n",
    "                                offset=run_config['offset'])"
   ]
  },
  {
   "cell_type": "code",
   "execution_count": 11,
   "id": "ce884dbd-2b3e-4b27-9f7a-1b4e355f4969",
   "metadata": {},
   "outputs": [
    {
     "name": "stderr",
     "output_type": "stream",
     "text": [
      "GPU available: False, used: False\n",
      "TPU available: False, using: 0 TPU cores\n",
      "IPU available: False, using: 0 IPUs\n",
      "HPU available: False, using: 0 HPUs\n",
      "/home/jovyan/conda_envs/torch/lib/python3.10/site-packages/pytorch_lightning/callbacks/model_checkpoint.py:616: UserWarning: Checkpoint directory ../logs/wandb/token-identify/version_None/checkpoints exists and is not empty.\n",
      "  rank_zero_warn(f\"Checkpoint directory {dirpath} exists and is not empty.\")\n",
      "\n",
      "  | Name       | Type                | Params\n",
      "---------------------------------------------------\n",
      "0 | activation | GELU                | 0     \n",
      "1 | loss_fn    | CosineEmbeddingLoss | 0     \n",
      "2 | layers     | Sequential          | 2.5 M \n",
      "---------------------------------------------------\n",
      "2.5 M     Trainable params\n",
      "0         Non-trainable params\n",
      "2.5 M     Total params\n",
      "10.155    Total estimated model params size (MB)\n"
     ]
    },
    {
     "data": {
      "application/vnd.jupyter.widget-view+json": {
       "model_id": "",
       "version_major": 2,
       "version_minor": 0
      },
      "text/plain": [
       "Sanity Checking: 0it [00:00, ?it/s]"
      ]
     },
     "metadata": {},
     "output_type": "display_data"
    },
    {
     "name": "stderr",
     "output_type": "stream",
     "text": [
      "/home/jovyan/conda_envs/torch/lib/python3.10/site-packages/pytorch_lightning/trainer/connectors/data_connector.py:236: PossibleUserWarning: The dataloader, val_dataloader 0, does not have many workers which may be a bottleneck. Consider increasing the value of the `num_workers` argument` (try 40 which is the number of cpus on this machine) in the `DataLoader` init to improve performance.\n",
      "  rank_zero_warn(\n",
      "/home/jovyan/conda_envs/torch/lib/python3.10/site-packages/pytorch_lightning/trainer/connectors/data_connector.py:236: PossibleUserWarning: The dataloader, train_dataloader, does not have many workers which may be a bottleneck. Consider increasing the value of the `num_workers` argument` (try 40 which is the number of cpus on this machine) in the `DataLoader` init to improve performance.\n",
      "  rank_zero_warn(\n"
     ]
    },
    {
     "data": {
      "application/vnd.jupyter.widget-view+json": {
       "model_id": "dec1e076d1f64ee3b1949aaa08e3f6b7",
       "version_major": 2,
       "version_minor": 0
      },
      "text/plain": [
       "Training: 0it [00:00, ?it/s]"
      ]
     },
     "metadata": {},
     "output_type": "display_data"
    },
    {
     "data": {
      "text/html": [
       "Tracking run with wandb version 0.13.5"
      ],
      "text/plain": [
       "<IPython.core.display.HTML object>"
      ]
     },
     "metadata": {},
     "output_type": "display_data"
    },
    {
     "data": {
      "text/html": [
       "Run data is saved locally in <code>../logs/wandb/wandb/run-20221205_215736-1oufiuxz</code>"
      ],
      "text/plain": [
       "<IPython.core.display.HTML object>"
      ]
     },
     "metadata": {},
     "output_type": "display_data"
    },
    {
     "data": {
      "text/html": [
       "Syncing run <strong><a href=\"https://wandb.ai/ai-aloe/token-identify/runs/1oufiuxz\" target=\"_blank\">apricot-tree-26</a></strong> to <a href=\"https://wandb.ai/ai-aloe/token-identify\" target=\"_blank\">Weights & Biases</a> (<a href=\"https://wandb.me/run\" target=\"_blank\">docs</a>)<br/>"
      ],
      "text/plain": [
       "<IPython.core.display.HTML object>"
      ]
     },
     "metadata": {},
     "output_type": "display_data"
    },
    {
     "data": {
      "application/vnd.jupyter.widget-view+json": {
       "model_id": "",
       "version_major": 2,
       "version_minor": 0
      },
      "text/plain": [
       "Validation: 0it [00:00, ?it/s]"
      ]
     },
     "metadata": {},
     "output_type": "display_data"
    },
    {
     "data": {
      "application/vnd.jupyter.widget-view+json": {
       "model_id": "",
       "version_major": 2,
       "version_minor": 0
      },
      "text/plain": [
       "Validation: 0it [00:00, ?it/s]"
      ]
     },
     "metadata": {},
     "output_type": "display_data"
    },
    {
     "data": {
      "application/vnd.jupyter.widget-view+json": {
       "model_id": "",
       "version_major": 2,
       "version_minor": 0
      },
      "text/plain": [
       "Validation: 0it [00:00, ?it/s]"
      ]
     },
     "metadata": {},
     "output_type": "display_data"
    },
    {
     "data": {
      "application/vnd.jupyter.widget-view+json": {
       "model_id": "",
       "version_major": 2,
       "version_minor": 0
      },
      "text/plain": [
       "Validation: 0it [00:00, ?it/s]"
      ]
     },
     "metadata": {},
     "output_type": "display_data"
    },
    {
     "data": {
      "application/vnd.jupyter.widget-view+json": {
       "model_id": "",
       "version_major": 2,
       "version_minor": 0
      },
      "text/plain": [
       "Validation: 0it [00:00, ?it/s]"
      ]
     },
     "metadata": {},
     "output_type": "display_data"
    },
    {
     "data": {
      "application/vnd.jupyter.widget-view+json": {
       "model_id": "",
       "version_major": 2,
       "version_minor": 0
      },
      "text/plain": [
       "Validation: 0it [00:00, ?it/s]"
      ]
     },
     "metadata": {},
     "output_type": "display_data"
    },
    {
     "data": {
      "application/vnd.jupyter.widget-view+json": {
       "model_id": "",
       "version_major": 2,
       "version_minor": 0
      },
      "text/plain": [
       "Validation: 0it [00:00, ?it/s]"
      ]
     },
     "metadata": {},
     "output_type": "display_data"
    },
    {
     "data": {
      "application/vnd.jupyter.widget-view+json": {
       "model_id": "",
       "version_major": 2,
       "version_minor": 0
      },
      "text/plain": [
       "Validation: 0it [00:00, ?it/s]"
      ]
     },
     "metadata": {},
     "output_type": "display_data"
    },
    {
     "data": {
      "application/vnd.jupyter.widget-view+json": {
       "model_id": "",
       "version_major": 2,
       "version_minor": 0
      },
      "text/plain": [
       "Validation: 0it [00:00, ?it/s]"
      ]
     },
     "metadata": {},
     "output_type": "display_data"
    },
    {
     "data": {
      "application/vnd.jupyter.widget-view+json": {
       "model_id": "",
       "version_major": 2,
       "version_minor": 0
      },
      "text/plain": [
       "Validation: 0it [00:00, ?it/s]"
      ]
     },
     "metadata": {},
     "output_type": "display_data"
    },
    {
     "data": {
      "application/vnd.jupyter.widget-view+json": {
       "model_id": "",
       "version_major": 2,
       "version_minor": 0
      },
      "text/plain": [
       "Validation: 0it [00:00, ?it/s]"
      ]
     },
     "metadata": {},
     "output_type": "display_data"
    },
    {
     "data": {
      "application/vnd.jupyter.widget-view+json": {
       "model_id": "",
       "version_major": 2,
       "version_minor": 0
      },
      "text/plain": [
       "Validation: 0it [00:00, ?it/s]"
      ]
     },
     "metadata": {},
     "output_type": "display_data"
    },
    {
     "data": {
      "application/vnd.jupyter.widget-view+json": {
       "model_id": "",
       "version_major": 2,
       "version_minor": 0
      },
      "text/plain": [
       "Validation: 0it [00:00, ?it/s]"
      ]
     },
     "metadata": {},
     "output_type": "display_data"
    },
    {
     "data": {
      "application/vnd.jupyter.widget-view+json": {
       "model_id": "",
       "version_major": 2,
       "version_minor": 0
      },
      "text/plain": [
       "Validation: 0it [00:00, ?it/s]"
      ]
     },
     "metadata": {},
     "output_type": "display_data"
    },
    {
     "data": {
      "application/vnd.jupyter.widget-view+json": {
       "model_id": "",
       "version_major": 2,
       "version_minor": 0
      },
      "text/plain": [
       "Validation: 0it [00:00, ?it/s]"
      ]
     },
     "metadata": {},
     "output_type": "display_data"
    },
    {
     "data": {
      "application/vnd.jupyter.widget-view+json": {
       "model_id": "",
       "version_major": 2,
       "version_minor": 0
      },
      "text/plain": [
       "Validation: 0it [00:00, ?it/s]"
      ]
     },
     "metadata": {},
     "output_type": "display_data"
    },
    {
     "data": {
      "application/vnd.jupyter.widget-view+json": {
       "model_id": "",
       "version_major": 2,
       "version_minor": 0
      },
      "text/plain": [
       "Validation: 0it [00:00, ?it/s]"
      ]
     },
     "metadata": {},
     "output_type": "display_data"
    },
    {
     "data": {
      "application/vnd.jupyter.widget-view+json": {
       "model_id": "",
       "version_major": 2,
       "version_minor": 0
      },
      "text/plain": [
       "Validation: 0it [00:00, ?it/s]"
      ]
     },
     "metadata": {},
     "output_type": "display_data"
    },
    {
     "data": {
      "application/vnd.jupyter.widget-view+json": {
       "model_id": "",
       "version_major": 2,
       "version_minor": 0
      },
      "text/plain": [
       "Validation: 0it [00:00, ?it/s]"
      ]
     },
     "metadata": {},
     "output_type": "display_data"
    },
    {
     "data": {
      "application/vnd.jupyter.widget-view+json": {
       "model_id": "",
       "version_major": 2,
       "version_minor": 0
      },
      "text/plain": [
       "Validation: 0it [00:00, ?it/s]"
      ]
     },
     "metadata": {},
     "output_type": "display_data"
    },
    {
     "data": {
      "application/vnd.jupyter.widget-view+json": {
       "model_id": "",
       "version_major": 2,
       "version_minor": 0
      },
      "text/plain": [
       "Validation: 0it [00:00, ?it/s]"
      ]
     },
     "metadata": {},
     "output_type": "display_data"
    },
    {
     "data": {
      "application/vnd.jupyter.widget-view+json": {
       "model_id": "",
       "version_major": 2,
       "version_minor": 0
      },
      "text/plain": [
       "Validation: 0it [00:00, ?it/s]"
      ]
     },
     "metadata": {},
     "output_type": "display_data"
    },
    {
     "data": {
      "application/vnd.jupyter.widget-view+json": {
       "model_id": "",
       "version_major": 2,
       "version_minor": 0
      },
      "text/plain": [
       "Validation: 0it [00:00, ?it/s]"
      ]
     },
     "metadata": {},
     "output_type": "display_data"
    },
    {
     "data": {
      "application/vnd.jupyter.widget-view+json": {
       "model_id": "",
       "version_major": 2,
       "version_minor": 0
      },
      "text/plain": [
       "Validation: 0it [00:00, ?it/s]"
      ]
     },
     "metadata": {},
     "output_type": "display_data"
    },
    {
     "data": {
      "application/vnd.jupyter.widget-view+json": {
       "model_id": "",
       "version_major": 2,
       "version_minor": 0
      },
      "text/plain": [
       "Validation: 0it [00:00, ?it/s]"
      ]
     },
     "metadata": {},
     "output_type": "display_data"
    },
    {
     "data": {
      "application/vnd.jupyter.widget-view+json": {
       "model_id": "",
       "version_major": 2,
       "version_minor": 0
      },
      "text/plain": [
       "Validation: 0it [00:00, ?it/s]"
      ]
     },
     "metadata": {},
     "output_type": "display_data"
    },
    {
     "data": {
      "application/vnd.jupyter.widget-view+json": {
       "model_id": "",
       "version_major": 2,
       "version_minor": 0
      },
      "text/plain": [
       "Validation: 0it [00:00, ?it/s]"
      ]
     },
     "metadata": {},
     "output_type": "display_data"
    },
    {
     "data": {
      "application/vnd.jupyter.widget-view+json": {
       "model_id": "",
       "version_major": 2,
       "version_minor": 0
      },
      "text/plain": [
       "Validation: 0it [00:00, ?it/s]"
      ]
     },
     "metadata": {},
     "output_type": "display_data"
    },
    {
     "data": {
      "application/vnd.jupyter.widget-view+json": {
       "model_id": "",
       "version_major": 2,
       "version_minor": 0
      },
      "text/plain": [
       "Validation: 0it [00:00, ?it/s]"
      ]
     },
     "metadata": {},
     "output_type": "display_data"
    },
    {
     "data": {
      "application/vnd.jupyter.widget-view+json": {
       "model_id": "",
       "version_major": 2,
       "version_minor": 0
      },
      "text/plain": [
       "Validation: 0it [00:00, ?it/s]"
      ]
     },
     "metadata": {},
     "output_type": "display_data"
    },
    {
     "data": {
      "application/vnd.jupyter.widget-view+json": {
       "model_id": "",
       "version_major": 2,
       "version_minor": 0
      },
      "text/plain": [
       "Validation: 0it [00:00, ?it/s]"
      ]
     },
     "metadata": {},
     "output_type": "display_data"
    },
    {
     "data": {
      "application/vnd.jupyter.widget-view+json": {
       "model_id": "",
       "version_major": 2,
       "version_minor": 0
      },
      "text/plain": [
       "Validation: 0it [00:00, ?it/s]"
      ]
     },
     "metadata": {},
     "output_type": "display_data"
    },
    {
     "data": {
      "application/vnd.jupyter.widget-view+json": {
       "model_id": "",
       "version_major": 2,
       "version_minor": 0
      },
      "text/plain": [
       "Validation: 0it [00:00, ?it/s]"
      ]
     },
     "metadata": {},
     "output_type": "display_data"
    },
    {
     "data": {
      "application/vnd.jupyter.widget-view+json": {
       "model_id": "",
       "version_major": 2,
       "version_minor": 0
      },
      "text/plain": [
       "Validation: 0it [00:00, ?it/s]"
      ]
     },
     "metadata": {},
     "output_type": "display_data"
    },
    {
     "data": {
      "application/vnd.jupyter.widget-view+json": {
       "model_id": "",
       "version_major": 2,
       "version_minor": 0
      },
      "text/plain": [
       "Validation: 0it [00:00, ?it/s]"
      ]
     },
     "metadata": {},
     "output_type": "display_data"
    },
    {
     "data": {
      "application/vnd.jupyter.widget-view+json": {
       "model_id": "",
       "version_major": 2,
       "version_minor": 0
      },
      "text/plain": [
       "Validation: 0it [00:00, ?it/s]"
      ]
     },
     "metadata": {},
     "output_type": "display_data"
    },
    {
     "data": {
      "application/vnd.jupyter.widget-view+json": {
       "model_id": "",
       "version_major": 2,
       "version_minor": 0
      },
      "text/plain": [
       "Validation: 0it [00:00, ?it/s]"
      ]
     },
     "metadata": {},
     "output_type": "display_data"
    },
    {
     "data": {
      "application/vnd.jupyter.widget-view+json": {
       "model_id": "",
       "version_major": 2,
       "version_minor": 0
      },
      "text/plain": [
       "Validation: 0it [00:00, ?it/s]"
      ]
     },
     "metadata": {},
     "output_type": "display_data"
    },
    {
     "data": {
      "application/vnd.jupyter.widget-view+json": {
       "model_id": "",
       "version_major": 2,
       "version_minor": 0
      },
      "text/plain": [
       "Validation: 0it [00:00, ?it/s]"
      ]
     },
     "metadata": {},
     "output_type": "display_data"
    },
    {
     "data": {
      "application/vnd.jupyter.widget-view+json": {
       "model_id": "",
       "version_major": 2,
       "version_minor": 0
      },
      "text/plain": [
       "Validation: 0it [00:00, ?it/s]"
      ]
     },
     "metadata": {},
     "output_type": "display_data"
    },
    {
     "data": {
      "application/vnd.jupyter.widget-view+json": {
       "model_id": "",
       "version_major": 2,
       "version_minor": 0
      },
      "text/plain": [
       "Validation: 0it [00:00, ?it/s]"
      ]
     },
     "metadata": {},
     "output_type": "display_data"
    },
    {
     "data": {
      "application/vnd.jupyter.widget-view+json": {
       "model_id": "",
       "version_major": 2,
       "version_minor": 0
      },
      "text/plain": [
       "Validation: 0it [00:00, ?it/s]"
      ]
     },
     "metadata": {},
     "output_type": "display_data"
    },
    {
     "data": {
      "application/vnd.jupyter.widget-view+json": {
       "model_id": "",
       "version_major": 2,
       "version_minor": 0
      },
      "text/plain": [
       "Validation: 0it [00:00, ?it/s]"
      ]
     },
     "metadata": {},
     "output_type": "display_data"
    },
    {
     "data": {
      "application/vnd.jupyter.widget-view+json": {
       "model_id": "d8dbc3ab7d6c4c65aa790a817a9f8264",
       "version_major": 2,
       "version_minor": 0
      },
      "text/plain": [
       "Validation: 0it [00:00, ?it/s]"
      ]
     },
     "metadata": {},
     "output_type": "display_data"
    },
    {
     "data": {
      "application/vnd.jupyter.widget-view+json": {
       "model_id": "d654cbaf067d469eaa752ca6b0fb1838",
       "version_major": 2,
       "version_minor": 0
      },
      "text/plain": [
       "Validation: 0it [00:00, ?it/s]"
      ]
     },
     "metadata": {},
     "output_type": "display_data"
    },
    {
     "data": {
      "application/vnd.jupyter.widget-view+json": {
       "model_id": "595223fd9a46462c95ae501736723750",
       "version_major": 2,
       "version_minor": 0
      },
      "text/plain": [
       "Validation: 0it [00:00, ?it/s]"
      ]
     },
     "metadata": {},
     "output_type": "display_data"
    },
    {
     "data": {
      "application/vnd.jupyter.widget-view+json": {
       "model_id": "4786add3f08441c49529446d75efe278",
       "version_major": 2,
       "version_minor": 0
      },
      "text/plain": [
       "Validation: 0it [00:00, ?it/s]"
      ]
     },
     "metadata": {},
     "output_type": "display_data"
    },
    {
     "data": {
      "application/vnd.jupyter.widget-view+json": {
       "model_id": "3f022349d7a94cecbf343ea6e8389a6b",
       "version_major": 2,
       "version_minor": 0
      },
      "text/plain": [
       "Validation: 0it [00:00, ?it/s]"
      ]
     },
     "metadata": {},
     "output_type": "display_data"
    },
    {
     "data": {
      "application/vnd.jupyter.widget-view+json": {
       "model_id": "fb572880cfa444abb51bba8090df6e43",
       "version_major": 2,
       "version_minor": 0
      },
      "text/plain": [
       "Validation: 0it [00:00, ?it/s]"
      ]
     },
     "metadata": {},
     "output_type": "display_data"
    },
    {
     "data": {
      "application/vnd.jupyter.widget-view+json": {
       "model_id": "205ca80835b04f0c8caf9695667ce7af",
       "version_major": 2,
       "version_minor": 0
      },
      "text/plain": [
       "Validation: 0it [00:00, ?it/s]"
      ]
     },
     "metadata": {},
     "output_type": "display_data"
    },
    {
     "data": {
      "application/vnd.jupyter.widget-view+json": {
       "model_id": "cb3e3466cafb4984bb7d24b413138515",
       "version_major": 2,
       "version_minor": 0
      },
      "text/plain": [
       "Validation: 0it [00:00, ?it/s]"
      ]
     },
     "metadata": {},
     "output_type": "display_data"
    },
    {
     "data": {
      "application/vnd.jupyter.widget-view+json": {
       "model_id": "1630768274574ff1b39dbe9236d09876",
       "version_major": 2,
       "version_minor": 0
      },
      "text/plain": [
       "Validation: 0it [00:00, ?it/s]"
      ]
     },
     "metadata": {},
     "output_type": "display_data"
    },
    {
     "data": {
      "application/vnd.jupyter.widget-view+json": {
       "model_id": "1359fb7d70f34569915dbec85a7cd061",
       "version_major": 2,
       "version_minor": 0
      },
      "text/plain": [
       "Validation: 0it [00:00, ?it/s]"
      ]
     },
     "metadata": {},
     "output_type": "display_data"
    },
    {
     "data": {
      "application/vnd.jupyter.widget-view+json": {
       "model_id": "9059b24f8c224e44b653661037f5c696",
       "version_major": 2,
       "version_minor": 0
      },
      "text/plain": [
       "Validation: 0it [00:00, ?it/s]"
      ]
     },
     "metadata": {},
     "output_type": "display_data"
    },
    {
     "data": {
      "application/vnd.jupyter.widget-view+json": {
       "model_id": "d2380b9d76cb490db48a3bbce13299e7",
       "version_major": 2,
       "version_minor": 0
      },
      "text/plain": [
       "Validation: 0it [00:00, ?it/s]"
      ]
     },
     "metadata": {},
     "output_type": "display_data"
    },
    {
     "data": {
      "application/vnd.jupyter.widget-view+json": {
       "model_id": "af1ee7ad09e04e9c965f64f81df501b6",
       "version_major": 2,
       "version_minor": 0
      },
      "text/plain": [
       "Validation: 0it [00:00, ?it/s]"
      ]
     },
     "metadata": {},
     "output_type": "display_data"
    },
    {
     "data": {
      "application/vnd.jupyter.widget-view+json": {
       "model_id": "02f0b6c08bd84f6299807fd88afe9191",
       "version_major": 2,
       "version_minor": 0
      },
      "text/plain": [
       "Validation: 0it [00:00, ?it/s]"
      ]
     },
     "metadata": {},
     "output_type": "display_data"
    },
    {
     "data": {
      "application/vnd.jupyter.widget-view+json": {
       "model_id": "076883d96e2d4ff7b6c323d21ff08520",
       "version_major": 2,
       "version_minor": 0
      },
      "text/plain": [
       "Validation: 0it [00:00, ?it/s]"
      ]
     },
     "metadata": {},
     "output_type": "display_data"
    },
    {
     "data": {
      "application/vnd.jupyter.widget-view+json": {
       "model_id": "49d32d8fe3e84ae995e757847552dbf3",
       "version_major": 2,
       "version_minor": 0
      },
      "text/plain": [
       "Validation: 0it [00:00, ?it/s]"
      ]
     },
     "metadata": {},
     "output_type": "display_data"
    },
    {
     "data": {
      "application/vnd.jupyter.widget-view+json": {
       "model_id": "558abaf56c85432db7417f499a29d151",
       "version_major": 2,
       "version_minor": 0
      },
      "text/plain": [
       "Validation: 0it [00:00, ?it/s]"
      ]
     },
     "metadata": {},
     "output_type": "display_data"
    },
    {
     "data": {
      "application/vnd.jupyter.widget-view+json": {
       "model_id": "e56a4e1581ee479f96ecd71e2e6765db",
       "version_major": 2,
       "version_minor": 0
      },
      "text/plain": [
       "Validation: 0it [00:00, ?it/s]"
      ]
     },
     "metadata": {},
     "output_type": "display_data"
    },
    {
     "data": {
      "application/vnd.jupyter.widget-view+json": {
       "model_id": "aec754abbfbf4d239eba5f98c2c208fa",
       "version_major": 2,
       "version_minor": 0
      },
      "text/plain": [
       "Validation: 0it [00:00, ?it/s]"
      ]
     },
     "metadata": {},
     "output_type": "display_data"
    },
    {
     "data": {
      "application/vnd.jupyter.widget-view+json": {
       "model_id": "cb796ba96a71484d96118839f9b067cd",
       "version_major": 2,
       "version_minor": 0
      },
      "text/plain": [
       "Validation: 0it [00:00, ?it/s]"
      ]
     },
     "metadata": {},
     "output_type": "display_data"
    },
    {
     "data": {
      "application/vnd.jupyter.widget-view+json": {
       "model_id": "ff02485dc0e6402eb0ef73c7ef330cc3",
       "version_major": 2,
       "version_minor": 0
      },
      "text/plain": [
       "Validation: 0it [00:00, ?it/s]"
      ]
     },
     "metadata": {},
     "output_type": "display_data"
    },
    {
     "data": {
      "application/vnd.jupyter.widget-view+json": {
       "model_id": "9d7e2ab339704e1e88d3fc64b7237f48",
       "version_major": 2,
       "version_minor": 0
      },
      "text/plain": [
       "Validation: 0it [00:00, ?it/s]"
      ]
     },
     "metadata": {},
     "output_type": "display_data"
    },
    {
     "data": {
      "application/vnd.jupyter.widget-view+json": {
       "model_id": "4c2936d5109c44f3acfd2f34b0078719",
       "version_major": 2,
       "version_minor": 0
      },
      "text/plain": [
       "Validation: 0it [00:00, ?it/s]"
      ]
     },
     "metadata": {},
     "output_type": "display_data"
    },
    {
     "data": {
      "application/vnd.jupyter.widget-view+json": {
       "model_id": "37f1c51d8f5c44579725ef232a9ea633",
       "version_major": 2,
       "version_minor": 0
      },
      "text/plain": [
       "Validation: 0it [00:00, ?it/s]"
      ]
     },
     "metadata": {},
     "output_type": "display_data"
    },
    {
     "data": {
      "application/vnd.jupyter.widget-view+json": {
       "model_id": "7aba59df980046bb80e2a690e16ac026",
       "version_major": 2,
       "version_minor": 0
      },
      "text/plain": [
       "Validation: 0it [00:00, ?it/s]"
      ]
     },
     "metadata": {},
     "output_type": "display_data"
    },
    {
     "data": {
      "application/vnd.jupyter.widget-view+json": {
       "model_id": "92b53311a47649d680906b315fb47f9a",
       "version_major": 2,
       "version_minor": 0
      },
      "text/plain": [
       "Validation: 0it [00:00, ?it/s]"
      ]
     },
     "metadata": {},
     "output_type": "display_data"
    },
    {
     "data": {
      "application/vnd.jupyter.widget-view+json": {
       "model_id": "10079f7a456b4865b322f9802c474b95",
       "version_major": 2,
       "version_minor": 0
      },
      "text/plain": [
       "Validation: 0it [00:00, ?it/s]"
      ]
     },
     "metadata": {},
     "output_type": "display_data"
    },
    {
     "data": {
      "application/vnd.jupyter.widget-view+json": {
       "model_id": "24437b0d15de421caed0520ee9e389f5",
       "version_major": 2,
       "version_minor": 0
      },
      "text/plain": [
       "Validation: 0it [00:00, ?it/s]"
      ]
     },
     "metadata": {},
     "output_type": "display_data"
    },
    {
     "data": {
      "application/vnd.jupyter.widget-view+json": {
       "model_id": "a86742f7e65f492eb23c67f42f59440a",
       "version_major": 2,
       "version_minor": 0
      },
      "text/plain": [
       "Validation: 0it [00:00, ?it/s]"
      ]
     },
     "metadata": {},
     "output_type": "display_data"
    },
    {
     "data": {
      "application/vnd.jupyter.widget-view+json": {
       "model_id": "114c1568e4b449bcac2d4119c2570dc0",
       "version_major": 2,
       "version_minor": 0
      },
      "text/plain": [
       "Validation: 0it [00:00, ?it/s]"
      ]
     },
     "metadata": {},
     "output_type": "display_data"
    },
    {
     "data": {
      "application/vnd.jupyter.widget-view+json": {
       "model_id": "4619b76b8a994cdf841cff96125af895",
       "version_major": 2,
       "version_minor": 0
      },
      "text/plain": [
       "Validation: 0it [00:00, ?it/s]"
      ]
     },
     "metadata": {},
     "output_type": "display_data"
    },
    {
     "data": {
      "application/vnd.jupyter.widget-view+json": {
       "model_id": "25f97d925f6a476f9da27f83c6f75657",
       "version_major": 2,
       "version_minor": 0
      },
      "text/plain": [
       "Validation: 0it [00:00, ?it/s]"
      ]
     },
     "metadata": {},
     "output_type": "display_data"
    },
    {
     "data": {
      "application/vnd.jupyter.widget-view+json": {
       "model_id": "f15e056a9fcb4549b7aa202298255bb5",
       "version_major": 2,
       "version_minor": 0
      },
      "text/plain": [
       "Validation: 0it [00:00, ?it/s]"
      ]
     },
     "metadata": {},
     "output_type": "display_data"
    },
    {
     "data": {
      "application/vnd.jupyter.widget-view+json": {
       "model_id": "ab5a076f7f4a4955a13283e6a3866ed0",
       "version_major": 2,
       "version_minor": 0
      },
      "text/plain": [
       "Validation: 0it [00:00, ?it/s]"
      ]
     },
     "metadata": {},
     "output_type": "display_data"
    },
    {
     "data": {
      "application/vnd.jupyter.widget-view+json": {
       "model_id": "d5466401d6654805b116929594f83e8f",
       "version_major": 2,
       "version_minor": 0
      },
      "text/plain": [
       "Validation: 0it [00:00, ?it/s]"
      ]
     },
     "metadata": {},
     "output_type": "display_data"
    },
    {
     "data": {
      "application/vnd.jupyter.widget-view+json": {
       "model_id": "7f15ada5b917402ea58258b594c69de9",
       "version_major": 2,
       "version_minor": 0
      },
      "text/plain": [
       "Validation: 0it [00:00, ?it/s]"
      ]
     },
     "metadata": {},
     "output_type": "display_data"
    },
    {
     "data": {
      "application/vnd.jupyter.widget-view+json": {
       "model_id": "9069e7315b8b45fc8a3ddc62f3800dba",
       "version_major": 2,
       "version_minor": 0
      },
      "text/plain": [
       "Validation: 0it [00:00, ?it/s]"
      ]
     },
     "metadata": {},
     "output_type": "display_data"
    },
    {
     "data": {
      "application/vnd.jupyter.widget-view+json": {
       "model_id": "15619e1cd059422685d983d94df243fa",
       "version_major": 2,
       "version_minor": 0
      },
      "text/plain": [
       "Validation: 0it [00:00, ?it/s]"
      ]
     },
     "metadata": {},
     "output_type": "display_data"
    },
    {
     "data": {
      "application/vnd.jupyter.widget-view+json": {
       "model_id": "0747790592ee4d60bffa82c82c645fb7",
       "version_major": 2,
       "version_minor": 0
      },
      "text/plain": [
       "Validation: 0it [00:00, ?it/s]"
      ]
     },
     "metadata": {},
     "output_type": "display_data"
    },
    {
     "data": {
      "application/vnd.jupyter.widget-view+json": {
       "model_id": "694262d674cd48ad8b0ef54058337450",
       "version_major": 2,
       "version_minor": 0
      },
      "text/plain": [
       "Validation: 0it [00:00, ?it/s]"
      ]
     },
     "metadata": {},
     "output_type": "display_data"
    },
    {
     "data": {
      "application/vnd.jupyter.widget-view+json": {
       "model_id": "f6f6d4812b1042ff9172004c43aab90c",
       "version_major": 2,
       "version_minor": 0
      },
      "text/plain": [
       "Validation: 0it [00:00, ?it/s]"
      ]
     },
     "metadata": {},
     "output_type": "display_data"
    },
    {
     "data": {
      "application/vnd.jupyter.widget-view+json": {
       "model_id": "cbc00a0b9c6c4e65972306400aceb421",
       "version_major": 2,
       "version_minor": 0
      },
      "text/plain": [
       "Validation: 0it [00:00, ?it/s]"
      ]
     },
     "metadata": {},
     "output_type": "display_data"
    },
    {
     "data": {
      "application/vnd.jupyter.widget-view+json": {
       "model_id": "039900d98f3f446db1b79a3d437333c8",
       "version_major": 2,
       "version_minor": 0
      },
      "text/plain": [
       "Validation: 0it [00:00, ?it/s]"
      ]
     },
     "metadata": {},
     "output_type": "display_data"
    },
    {
     "data": {
      "application/vnd.jupyter.widget-view+json": {
       "model_id": "b477bc4bb006432d902551df95e0b632",
       "version_major": 2,
       "version_minor": 0
      },
      "text/plain": [
       "Validation: 0it [00:00, ?it/s]"
      ]
     },
     "metadata": {},
     "output_type": "display_data"
    },
    {
     "data": {
      "application/vnd.jupyter.widget-view+json": {
       "model_id": "49c290c82594419faa1b228b1557fdf0",
       "version_major": 2,
       "version_minor": 0
      },
      "text/plain": [
       "Validation: 0it [00:00, ?it/s]"
      ]
     },
     "metadata": {},
     "output_type": "display_data"
    },
    {
     "data": {
      "application/vnd.jupyter.widget-view+json": {
       "model_id": "3a95f00932a1453b8cd4c4a1e306473a",
       "version_major": 2,
       "version_minor": 0
      },
      "text/plain": [
       "Validation: 0it [00:00, ?it/s]"
      ]
     },
     "metadata": {},
     "output_type": "display_data"
    },
    {
     "data": {
      "application/vnd.jupyter.widget-view+json": {
       "model_id": "9b7e213915b540759e6d961252f2405a",
       "version_major": 2,
       "version_minor": 0
      },
      "text/plain": [
       "Validation: 0it [00:00, ?it/s]"
      ]
     },
     "metadata": {},
     "output_type": "display_data"
    },
    {
     "data": {
      "application/vnd.jupyter.widget-view+json": {
       "model_id": "4ddd5a3ba2ed4c7fb6c9f5d53c8e774c",
       "version_major": 2,
       "version_minor": 0
      },
      "text/plain": [
       "Validation: 0it [00:00, ?it/s]"
      ]
     },
     "metadata": {},
     "output_type": "display_data"
    },
    {
     "data": {
      "application/vnd.jupyter.widget-view+json": {
       "model_id": "15f4ee0229ee46bebddb3b1b7025f63d",
       "version_major": 2,
       "version_minor": 0
      },
      "text/plain": [
       "Validation: 0it [00:00, ?it/s]"
      ]
     },
     "metadata": {},
     "output_type": "display_data"
    },
    {
     "data": {
      "application/vnd.jupyter.widget-view+json": {
       "model_id": "d4c382ca61d349c78117538155711908",
       "version_major": 2,
       "version_minor": 0
      },
      "text/plain": [
       "Validation: 0it [00:00, ?it/s]"
      ]
     },
     "metadata": {},
     "output_type": "display_data"
    },
    {
     "data": {
      "application/vnd.jupyter.widget-view+json": {
       "model_id": "e3544387fe9a435389a2636fb4c77484",
       "version_major": 2,
       "version_minor": 0
      },
      "text/plain": [
       "Validation: 0it [00:00, ?it/s]"
      ]
     },
     "metadata": {},
     "output_type": "display_data"
    },
    {
     "data": {
      "application/vnd.jupyter.widget-view+json": {
       "model_id": "6aeccd51f1724bc99a52beb337706040",
       "version_major": 2,
       "version_minor": 0
      },
      "text/plain": [
       "Validation: 0it [00:00, ?it/s]"
      ]
     },
     "metadata": {},
     "output_type": "display_data"
    },
    {
     "data": {
      "application/vnd.jupyter.widget-view+json": {
       "model_id": "9bc40a37881b4a6e8526eed7a5f5d8c4",
       "version_major": 2,
       "version_minor": 0
      },
      "text/plain": [
       "Validation: 0it [00:00, ?it/s]"
      ]
     },
     "metadata": {},
     "output_type": "display_data"
    },
    {
     "data": {
      "application/vnd.jupyter.widget-view+json": {
       "model_id": "3918c494733a40398bab9336c61b06af",
       "version_major": 2,
       "version_minor": 0
      },
      "text/plain": [
       "Validation: 0it [00:00, ?it/s]"
      ]
     },
     "metadata": {},
     "output_type": "display_data"
    },
    {
     "data": {
      "application/vnd.jupyter.widget-view+json": {
       "model_id": "4f5ce512fb1849738536cab043a66f89",
       "version_major": 2,
       "version_minor": 0
      },
      "text/plain": [
       "Validation: 0it [00:00, ?it/s]"
      ]
     },
     "metadata": {},
     "output_type": "display_data"
    },
    {
     "data": {
      "application/vnd.jupyter.widget-view+json": {
       "model_id": "ab7231fa19d64e618881ab1fb21139bd",
       "version_major": 2,
       "version_minor": 0
      },
      "text/plain": [
       "Validation: 0it [00:00, ?it/s]"
      ]
     },
     "metadata": {},
     "output_type": "display_data"
    },
    {
     "data": {
      "text/html": [
       "Waiting for W&B process to finish... <strong style=\"color:green\">(success).</strong>"
      ],
      "text/plain": [
       "<IPython.core.display.HTML object>"
      ]
     },
     "metadata": {},
     "output_type": "display_data"
    },
    {
     "data": {
      "text/html": [
       "<style>\n",
       "    table.wandb td:nth-child(1) { padding: 0 10px; text-align: left ; width: auto;} td:nth-child(2) {text-align: left ; width: 100%}\n",
       "    .wandb-row { display: flex; flex-direction: row; flex-wrap: wrap; justify-content: flex-start; width: 100% }\n",
       "    .wandb-col { display: flex; flex-direction: column; flex-basis: 100%; flex: 1; padding: 10px; }\n",
       "    </style>\n",
       "<div class=\"wandb-row\"><div class=\"wandb-col\"><h3>Run history:</h3><br/><table class=\"wandb\"><tr><td>epoch</td><td>▁▁▁▂▂▂▂▂▂▃▃▃▃▃▄▄▄▄▄▄▅▅▅▅▅▅▆▆▆▆▆▇▇▇▇▇▇███</td></tr><tr><td>train_loss_epoch</td><td>█▄▃▃▃▂▂▂▂▂▂▂▂▂▂▂▁▁▁▁▁▁▁▁▁▁▁▁▁▁▁▁▁▁▁▁▁▁▁▁</td></tr><tr><td>train_loss_step</td><td>█▆▅▄▃▃▃▃▂▃▂▃▂▂▂▂▂▂▂▂▁▂▂▂▁▂▁▂▁▁▁▁▁▁▁▁▁▁▁▁</td></tr><tr><td>trainer/global_step</td><td>▁▁▁▂▂▂▂▂▂▃▃▃▃▃▄▄▄▄▄▄▅▅▅▅▅▅▆▆▆▆▆▇▇▇▇▇▇███</td></tr><tr><td>val_loss</td><td>█▅▄▃▃▃▂▂▂▂▂▂▂▁▁▁▁▁▁▁▁▁▁▁▁▁▁▁▁▁▁▁▁▁▁▁▁▁▁▁</td></tr></table><br/></div><div class=\"wandb-col\"><h3>Run summary:</h3><br/><table class=\"wandb\"><tr><td>epoch</td><td>98</td></tr><tr><td>train_loss_epoch</td><td>0.05509</td></tr><tr><td>train_loss_step</td><td>0.05119</td></tr><tr><td>trainer/global_step</td><td>21779</td></tr><tr><td>val_loss</td><td>0.101</td></tr></table><br/></div></div>"
      ],
      "text/plain": [
       "<IPython.core.display.HTML object>"
      ]
     },
     "metadata": {},
     "output_type": "display_data"
    },
    {
     "data": {
      "text/html": [
       "Synced <strong style=\"color:#cdcd00\">apricot-tree-26</strong>: <a href=\"https://wandb.ai/ai-aloe/token-identify/runs/1oufiuxz\" target=\"_blank\">https://wandb.ai/ai-aloe/token-identify/runs/1oufiuxz</a><br/>Synced 5 W&B file(s), 0 media file(s), 0 artifact file(s) and 0 other file(s)"
      ],
      "text/plain": [
       "<IPython.core.display.HTML object>"
      ]
     },
     "metadata": {},
     "output_type": "display_data"
    },
    {
     "data": {
      "text/html": [
       "Find logs at: <code>../logs/wandb/wandb/run-20221205_215736-1oufiuxz/logs</code>"
      ],
      "text/plain": [
       "<IPython.core.display.HTML object>"
      ]
     },
     "metadata": {},
     "output_type": "display_data"
    }
   ],
   "source": [
    "patience = pl.callbacks.EarlyStopping('val_loss', mode='min', min_delta=0.0, patience=5)\n",
    "\n",
    "trainer = pl.Trainer(default_root_dir='../data/model-checkpoints',\n",
    "                     max_epochs=100,\n",
    "                     logger=wandb_logger,\n",
    "                     callbacks=[patience])\n",
    "\n",
    "trainer.fit(model,\n",
    "            DataLoader(train, batch_size=256),\n",
    "            DataLoader(dev, batch_size=256),\n",
    "           )\n",
    "\n",
    "wandb.finish()"
   ]
  },
  {
   "cell_type": "markdown",
   "id": "82e83f7a-f2a0-4b25-8218-329590b80e75",
   "metadata": {},
   "source": [
    "## Eval"
   ]
  },
  {
   "cell_type": "code",
   "execution_count": null,
   "id": "72aac681-69d8-4ca2-ac8b-6d0189543395",
   "metadata": {},
   "outputs": [],
   "source": [
    "model = TokenIdentifier.load_from_checkpoint('../logs/token-identify/version_None/checkpoints/epoch=7-step=1512.ckpt',\n",
    "                                             input_size=768,\n",
    "                                             hidden_size=1000)"
   ]
  },
  {
   "cell_type": "code",
   "execution_count": 92,
   "id": "0eb2cb83-c544-4c08-b25d-e91cf079e425",
   "metadata": {},
   "outputs": [],
   "source": [
    "bert_embeds = (torch.load('../data/bert_lookup_embeddings.pt'))"
   ]
  },
  {
   "cell_type": "code",
   "execution_count": 93,
   "id": "4baeec72-be9d-4fc1-9a86-cad6fa820983",
   "metadata": {},
   "outputs": [
    {
     "data": {
      "text/plain": [
       "torch.Size([30522, 768])"
      ]
     },
     "execution_count": 93,
     "metadata": {},
     "output_type": "execute_result"
    }
   ],
   "source": [
    "bert_embeds.shape"
   ]
  }
 ],
 "metadata": {
  "kernelspec": {
   "display_name": "Python [conda env:torch]",
   "language": "python",
   "name": "conda-env-torch-py"
  },
  "language_info": {
   "codemirror_mode": {
    "name": "ipython",
    "version": 3
   },
   "file_extension": ".py",
   "mimetype": "text/x-python",
   "name": "python",
   "nbconvert_exporter": "python",
   "pygments_lexer": "ipython3",
   "version": "3.10.5"
  }
 },
 "nbformat": 4,
 "nbformat_minor": 5
}
